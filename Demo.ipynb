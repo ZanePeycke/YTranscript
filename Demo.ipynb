{
 "cells": [
  {
   "cell_type": "code",
   "execution_count": null,
   "outputs": [],
   "source": [
    "# Remember to remove developer key before sharing!!!\n",
    "\n",
    "# Uncomment next line to install the required package\n",
    "# ! pip install youtube-transcript-api\n",
    "\n",
    "import YTranscripts\n",
    "from youtube_transcript_api import YouTubeTranscriptApi\n",
    "from youtube_transcript_api.formatters import TextFormatter"
   ],
   "metadata": {
    "collapsed": false,
    "pycharm": {
     "name": "#%%\n"
    }
   }
  },
  {
   "cell_type": "code",
   "execution_count": null,
   "outputs": [],
   "source": [
    "# You can obtain the playlist link from youtube directly\n",
    "# Developer key can be generated in Google Cloud Platform\n",
    "# Specify Youtube V3 key\n",
    "\n",
    "playlist_link = 'https://youtube.com/playlist?list=PLvcSNZqNYJCkOTGBs3HBLA4VfdL5X6yEw'\n",
    "developer_key = ''"
   ],
   "metadata": {
    "collapsed": false,
    "pycharm": {
     "name": "#%%\n"
    }
   }
  },
  {
   "cell_type": "code",
   "execution_count": null,
   "outputs": [],
   "source": [
    "# List of all videos in a given playlist\n",
    "video_list =[]\n",
    "video_list = YTranscripts.get_playlist_items(playlist_link, developer_key)\n",
    "\n",
    "# If we only need a portion of the list we can split\n",
    "# For example only pulling the latest addition to a playlist would be\n",
    "# video_list = video_list[:1]\n",
    "\n",
    "print(f'This list contains {len(video_list)} links')\n",
    "print(f'The latest link is {video_list[0]}')"
   ],
   "metadata": {
    "collapsed": false,
    "pycharm": {
     "name": "#%%\n"
    }
   }
  },
  {
   "cell_type": "code",
   "execution_count": null,
   "outputs": [],
   "source": [
    "# It is possible that some videos do not have a transcript available, so we check which items in the playlist have caption files.\n",
    "transcript_list, unretrievable_videos = YouTubeTranscriptApi.get_transcripts(video_ids=video_list, continue_after_error=True)\n",
    "print(f'A total of {len(transcript_list.keys())} transcripts are available')\n"
   ],
   "metadata": {
    "collapsed": false,
    "pycharm": {
     "name": "#%%\n"
    }
   }
  },
  {
   "cell_type": "code",
   "execution_count": null,
   "outputs": [],
   "source": [
    "#Print the titles of any unretrievable videos\n",
    "if len(unretrievable_videos) > 0:\n",
    "    for video in unretrievable_videos:\n",
    "        print(f'A transcript is not available for {YTranscripts.get_title(video)}')\n",
    "else:\n",
    "    print('There are no unretrievable videos')"
   ],
   "metadata": {
    "collapsed": false,
    "pycharm": {
     "name": "#%%\n"
    }
   }
  },
  {
   "cell_type": "code",
   "execution_count": null,
   "outputs": [],
   "source": [
    "# For this purpose we want the caption files in plain text\n",
    "# There are other formatting options available from https://pypi.org/project/youtube-transcript-api/\n",
    "formatter = TextFormatter()\n",
    "\n",
    "for video in transcript_list.keys():\n",
    "    # Get transcript for video ID\n",
    "    transcript = YouTubeTranscriptApi.get_transcript(video_id=video)\n",
    "\n",
    "    # Format transcript for text only\n",
    "    text_formatted_transcript = formatter.format_transcript(transcript)\n",
    "\n",
    "    # Get video title\n",
    "    title = YTranscripts.get_title(video)\n",
    "\n",
    "    # Save transcript\n",
    "    with open(f'{title}.txt', 'w', encoding='utf-8') as file:\n",
    "        file.write(text_formatted_transcript)"
   ],
   "metadata": {
    "collapsed": false,
    "pycharm": {
     "name": "#%%\n"
    }
   }
  },
  {
   "cell_type": "code",
   "execution_count": null,
   "outputs": [],
   "source": [],
   "metadata": {
    "collapsed": false,
    "pycharm": {
     "name": "#%%\n"
    }
   }
  }
 ],
 "metadata": {
  "kernelspec": {
   "display_name": "Python 3",
   "language": "python",
   "name": "python3"
  },
  "language_info": {
   "codemirror_mode": {
    "name": "ipython",
    "version": 2
   },
   "file_extension": ".py",
   "mimetype": "text/x-python",
   "name": "python",
   "nbconvert_exporter": "python",
   "pygments_lexer": "ipython2",
   "version": "2.7.6"
  }
 },
 "nbformat": 4,
 "nbformat_minor": 0
}